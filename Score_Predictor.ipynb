{
  "cells": [
    {
      "cell_type": "markdown",
      "source": [
        "# Mounting Drive"
      ],
      "metadata": {
        "id": "5vDJ0kNRptvQ"
      }
    },
    {
      "cell_type": "code",
      "source": [
        "from google.colab import drive\n",
        "drive.mount('/content/drive')"
      ],
      "metadata": {
        "id": "c3SF7EDCWK6F"
      },
      "execution_count": null,
      "outputs": []
    },
    {
      "cell_type": "markdown",
      "source": [
        "# Importing Necessary Libraries"
      ],
      "metadata": {
        "id": "XAJSTXmppzzO"
      }
    },
    {
      "cell_type": "code",
      "execution_count": null,
      "metadata": {
        "id": "4DdipqgiJP_s",
        "colab": {
          "base_uri": "https://localhost:8080/",
          "height": 36
        },
        "outputId": "7cd38b80-26b7-40ee-a55d-8be17d18be04"
      },
      "outputs": [
        {
          "output_type": "execute_result",
          "data": {
            "text/plain": [
              "'/device:GPU:0'"
            ],
            "application/vnd.google.colaboratory.intrinsic+json": {
              "type": "string"
            }
          },
          "metadata": {},
          "execution_count": 2
        }
      ],
      "source": [
        "import pandas as pd\n",
        "import ipywidgets as widgets\n",
        "import numpy as np\n",
        "import tensorflow as tf\n",
        "import joblib\n",
        "from sklearn.linear_model import ElasticNet\n",
        "from sklearn import metrics\n",
        "from IPython.display import display\n",
        "from sklearn import svm\n",
        "from sklearn.model_selection import GridSearchCV\n",
        "from sklearn.linear_model import Lasso\n",
        "from sklearn.linear_model import LinearRegression\n",
        "from sklearn.ensemble import RandomForestRegressor\n",
        "from sklearn.model_selection import train_test_split\n",
        "from sklearn.metrics import mean_absolute_error\n",
        "from sklearn.metrics import mean_squared_error\n",
        "from sklearn.metrics import mean_absolute_error\n",
        "from sklearn.metrics import r2_score\n",
        "\n",
        "\n",
        "device_list=tf.test.gpu_device_name()\n",
        "device_list\n"
      ]
    },
    {
      "cell_type": "markdown",
      "source": [
        "# Creating a dataframe Using the Dataset"
      ],
      "metadata": {
        "id": "h_3mKENep8uI"
      }
    },
    {
      "cell_type": "code",
      "execution_count": null,
      "metadata": {
        "id": "MoXbqt-rJV1F"
      },
      "outputs": [],
      "source": [
        "df = pd.read_csv('/content/drive/MyDrive/CSE-303 Statistical Analysis for Data Science/Project/Dataset/odi.csv')"
      ]
    },
    {
      "cell_type": "markdown",
      "source": [
        "# Features used to train  Linear, Neural Network and Elastic Net models"
      ],
      "metadata": {
        "id": "V28GtX5mqHGw"
      }
    },
    {
      "cell_type": "code",
      "execution_count": null,
      "metadata": {
        "id": "Cz9ZOHc8LDI1"
      },
      "outputs": [],
      "source": [
        "X1 = df[['bat_team', 'bowl_team', 'overs','runs', 'venue','wickets','runs_last_5','wickets_last_5']]\n",
        "X1 = pd.get_dummies(X1, columns=['bat_team', 'bowl_team', 'venue'], drop_first=True)\n",
        "Y1 = df['total']"
      ]
    },
    {
      "cell_type": "markdown",
      "source": [
        "# Features used to train  Random Forest"
      ],
      "metadata": {
        "id": "IT-d_sSLqZj8"
      }
    },
    {
      "cell_type": "code",
      "source": [
        "X2 = df[['bat_team', 'bowl_team', 'overs', 'venue','runs', 'wickets','runs_last_5','wickets_last_5']]\n",
        "X2 = pd.get_dummies(df[['bat_team', 'bowl_team', 'overs', 'venue','runs', 'wickets','runs_last_5','wickets_last_5']], drop_first=True)\n",
        "Y2= df['total']"
      ],
      "metadata": {
        "id": "lXnpYsDIcb8G"
      },
      "execution_count": null,
      "outputs": []
    },
    {
      "cell_type": "markdown",
      "source": [
        "# Splitting the dataset for training and testing"
      ],
      "metadata": {
        "id": "EZ2gO_ZgqrRj"
      }
    },
    {
      "cell_type": "code",
      "source": [
        "X_train1, X_test1, Y_train1, Y_test1 = train_test_split(X1, Y1, test_size=0.2, random_state=42)\n",
        "X_train2, X_test2, Y_train2, Y_test2 = train_test_split(X2, Y2, test_size=0.2, random_state=42)"
      ],
      "metadata": {
        "id": "tA3C3bKlWdsY"
      },
      "execution_count": null,
      "outputs": []
    },
    {
      "cell_type": "markdown",
      "source": [
        "# Linear Regression"
      ],
      "metadata": {
        "id": "joCY2UazZc0t"
      }
    },
    {
      "cell_type": "code",
      "execution_count": null,
      "metadata": {
        "id": "mLnoYvAqL8pl"
      },
      "outputs": [],
      "source": [
        "model_LG = LinearRegression()\n",
        "model_LG.fit(X_train1, Y_train1)\n"
      ]
    },
    {
      "cell_type": "markdown",
      "source": [
        "# Random Forest"
      ],
      "metadata": {
        "id": "MaqbbGBfZiXr"
      }
    },
    {
      "cell_type": "code",
      "source": [
        "model_RF = RandomForestRegressor(n_estimators=100, random_state=42)\n",
        "model_RF.fit(X_train2, Y_train2)"
      ],
      "metadata": {
        "id": "FTD3P4a0iLgR"
      },
      "execution_count": null,
      "outputs": []
    },
    {
      "cell_type": "markdown",
      "source": [
        "# SVM"
      ],
      "metadata": {
        "id": "m4sSXO2rpLcm"
      }
    },
    {
      "cell_type": "code",
      "source": [
        "\n",
        "\n",
        "# svm = svm.SVC()\n",
        "\n",
        "\n",
        "# param_grid = {\n",
        "#     'kernel': ['sigmoid', 'rbf'],\n",
        "#     'C': [0.1, 1, 10],\n",
        "#     'gamma': [0.01, 0.1, 1]\n",
        "# }\n",
        "\n",
        "# # Create GridSearchCV with cross-validation\n",
        "# grid_search = GridSearchCV(svm, param_grid, cv=3)\n",
        "# grid_search.fit(X_train1, Y_train1)\n",
        "\n",
        "# model_SVM = grid_search.best_estimator_\n"
      ],
      "metadata": {
        "id": "-yPiAjrAcnds"
      },
      "execution_count": null,
      "outputs": []
    },
    {
      "cell_type": "markdown",
      "source": [
        "# Simple Neural Network"
      ],
      "metadata": {
        "id": "bndoSmEXZmkx"
      }
    },
    {
      "cell_type": "code",
      "source": [
        "\n",
        "model_NN = tf.keras.Sequential([\n",
        "    tf.keras.layers.Dense(64, activation='relu', input_shape=(180,)),\n",
        "    tf.keras.layers.Dense(32, activation='relu'),\n",
        "    tf.keras.layers.Dense(1, activation='linear')\n",
        "])\n",
        "\n",
        "model_NN.compile(optimizer='adam', loss='mean_squared_error')\n",
        "model_NN.fit(X_train1, Y_train1, epochs=10, batch_size=64, validation_split=0.2)\n"
      ],
      "metadata": {
        "id": "hN5Syy73itqe"
      },
      "execution_count": null,
      "outputs": []
    },
    {
      "cell_type": "markdown",
      "source": [
        "# Elastic Net 50% Lasso, 50% Ridge"
      ],
      "metadata": {
        "id": "pSWOBOg3Zqy5"
      }
    },
    {
      "cell_type": "code",
      "source": [
        "model_EN = ElasticNet(alpha=1.0, l1_ratio=0.5)\n",
        "model_EN.fit(X_train1, Y_train1)"
      ],
      "metadata": {
        "id": "G2gxd6VPSUIA"
      },
      "execution_count": null,
      "outputs": []
    },
    {
      "cell_type": "markdown",
      "source": [
        "# Saving The Models"
      ],
      "metadata": {
        "id": "rkJMtisZZyFJ"
      }
    },
    {
      "cell_type": "code",
      "source": [
        "joblib.dump(model_LG,'/content/drive/MyDrive/CSE-303 Statistical Analysis for Data Science/Project/model_LG.pkl')\n",
        "joblib.dump(model_RF,'/content/drive/MyDrive/CSE-303 Statistical Analysis for Data Science/Project/model_RF.pkl')\n",
        "joblib.dump(model_NN,'/content/drive/MyDrive/CSE-303 Statistical Analysis for Data Science/Project/model_NN.pkl')\n",
        "joblib.dump(model_EN,'/content/drive/MyDrive/CSE-303 Statistical Analysis for Data Science/Project/model_EN.pkl')\n"
      ],
      "metadata": {
        "id": "-u7H4GfUtXoC"
      },
      "execution_count": null,
      "outputs": []
    },
    {
      "cell_type": "markdown",
      "source": [
        "# Loading The Models"
      ],
      "metadata": {
        "id": "EKFsFjzeZ3G9"
      }
    },
    {
      "cell_type": "code",
      "source": [
        "model_path1 = '/content/drive/MyDrive/CSE-303 Statistical Analysis for Data Science/Project/model_LG.pkl'\n",
        "model_path2 = '/content/drive/MyDrive/CSE-303 Statistical Analysis for Data Science/Project/model_RF.pkl'\n",
        "model_path3 = '/content/drive/MyDrive/CSE-303 Statistical Analysis for Data Science/Project/model_NN.pkl'\n",
        "model_path4 = '/content/drive/MyDrive/CSE-303 Statistical Analysis for Data Science/Project/model_EN.pkl'\n",
        "model_LG= joblib.load(model_path1)\n",
        "model_RF= joblib.load(model_path2)\n",
        "model_NN= joblib.load(model_path3)\n",
        "model_EN= joblib.load(model_path4)"
      ],
      "metadata": {
        "id": "vG5yMj-Mtrhg"
      },
      "execution_count": null,
      "outputs": []
    },
    {
      "cell_type": "markdown",
      "source": [
        "# Models MSE,MAE and R2 Values and Comparison between Models"
      ],
      "metadata": {
        "id": "Yd6dsdhjeoS3"
      }
    },
    {
      "cell_type": "code",
      "source": [
        "y_pred_LG = model_LG.predict(X_test1)\n",
        "y_pred_RF = model_RF.predict(X_test2)\n",
        "y_pred_NN = model_NN.predict(X_test1)\n",
        "y_pred_EN = model_EN.predict(X_test1)\n",
        "\n",
        "\n",
        "mse_LG = mean_squared_error(Y_test1, y_pred_LG)\n",
        "mae_LG = mean_absolute_error(Y_test1, y_pred_LG)\n",
        "r2_LG = r2_score(Y_test1, y_pred_LG)\n",
        "\n",
        "mse_RF = mean_squared_error(Y_test2, y_pred_RF)\n",
        "mae_RF = mean_absolute_error(Y_test2, y_pred_RF)\n",
        "r2_RF = r2_score(Y_test2, y_pred_RF)\n",
        "\n",
        "mse_NN = mean_squared_error(Y_test1, y_pred_NN)\n",
        "mae_NN = mean_absolute_error(Y_test1, y_pred_NN)\n",
        "r2_NN = r2_score(Y_test1, y_pred_NN)\n",
        "\n",
        "mse_EN = mean_squared_error(Y_test1, y_pred_EN)\n",
        "mae_EN = mean_absolute_error(Y_test1, y_pred_EN)\n",
        "r2_EN = r2_score(Y_test1, y_pred_EN)\n",
        "\n",
        "\n",
        "print(\"Linear Regression:\")\n",
        "print(f\"MSE: {mse_LG}\")\n",
        "print(f\"MAE: {mae_LG}\")\n",
        "print(f\"R2: {r2_LG}\\n\")\n",
        "\n",
        "print(\"Random Forest:\")\n",
        "print(f\"MSE: {mse_RF}\")\n",
        "print(f\"MAE: {mae_RF}\")\n",
        "print(f\"R2: {r2_RF}\\n\")\n",
        "\n",
        "print(\"Neural Network:\")\n",
        "print(f\"MSE: {mse_NN}\")\n",
        "print(f\"MAE: {mae_NN}\")\n",
        "print(f\"R2: {r2_NN}\\n\")\n",
        "\n",
        "print(\"Elastic Net:\")\n",
        "print(f\"MSE: {mse_EN}\")\n",
        "print(f\"MAE: {mae_EN}\")\n",
        "print(f\"R2: {r2_EN}\\n\")\n",
        "\n",
        "\n",
        "if mse_LG < mse_RF and mse_LG < mse_NN and mse_LG < mse_EN:\n",
        "    print(\"Linear Regression has the lowest MSE.\")\n",
        "elif mse_RF < mse_LG and mse_RF < mse_NN and mse_RF < mse_EN:\n",
        "    print(\"Random Forest has the lowest MSE.\")\n",
        "elif mse_NN < mse_LG and mse_NN < mse_RF and mse_NN < mse_EN:\n",
        "    print(\"Neural Network has the lowest MSE.\")\n",
        "else:\n",
        "    print(\"Elastic Net has the lowest MSE.\")\n",
        "\n",
        "\n",
        "if mae_LG < mae_RF and mae_LG < mae_NN and mae_LG < mae_EN:\n",
        "    print(\"Linear Regression has the lowest MAE.\")\n",
        "elif mae_RF < mae_LG and mae_RF < mae_NN and mae_RF < mae_EN:\n",
        "    print(\"Random Forest has the lowest MAE.\")\n",
        "elif mae_NN < mae_LG and mae_NN < mae_RF and mae_NN < mae_EN:\n",
        "    print(\"Neural Network has the lowest MAE.\")\n",
        "else:\n",
        "    print(\"Elastic Net has the lowest MAE.\")\n",
        "\n",
        "\n",
        "if r2_LG > r2_RF and r2_LG > r2_NN and r2_LG > r2_EN:\n",
        "    print(\"Linear Regression has the highest R2.\")\n",
        "elif r2_RF > r2_LG and r2_RF > r2_NN and r2_RF > r2_EN:\n",
        "    print(\"Random Forest has the highest R2.\")\n",
        "elif r2_NN > r2_LG and r2_NN > r2_RF and r2_NN > r2_EN:\n",
        "    print(\"Neural Network has the highest R2.\")\n",
        "else:\n",
        "    print(\"Elastic Net has the highest R2.\")\n"
      ],
      "metadata": {
        "id": "2y4VPJu6aLyQ"
      },
      "execution_count": null,
      "outputs": []
    },
    {
      "cell_type": "markdown",
      "source": [
        "# Score Prediction Function"
      ],
      "metadata": {
        "id": "smrJPS5eZ8G-"
      }
    },
    {
      "cell_type": "code",
      "source": [
        "def predict_final_score(overs, wickets, runs, batting_team, bowling_team, venue,runs_last_5,wickets_last_5,model):\n",
        "    input_data = pd.DataFrame(columns=X2.columns)\n",
        "    input_data.loc[0] = 0\n",
        "    input_data.loc[0, 'overs'] = overs\n",
        "    input_data.loc[0, 'wickets'] = wickets\n",
        "    input_data.loc[0, 'runs'] = runs\n",
        "    input_data.loc[0, 'runs_last_5']=runs_last_5\n",
        "    input_data.loc[0, 'wickets_last_5']=wickets_last_5\n",
        "    input_data.loc[0, 'bat_team_' + batting_team] = 1\n",
        "    input_data.loc[0, 'bowl_team_' + bowling_team] = 1\n",
        "    input_data.loc[0, 'venue_' + venue] = 1\n",
        "\n",
        "    if model==1:\n",
        "      predicted_final_score = model_LG.predict(input_data)[0]\n",
        "    elif model==2:\n",
        "      predicted_final_score = model_RF.predict(input_data)[0]\n",
        "    elif model==3:\n",
        "      predicted_final_score = model_NN.predict(input_data)[0]\n",
        "    elif model==4:\n",
        "      predicted_final_score = model_EN.predict(input_data)[0]\n",
        "\n",
        "\n",
        "    predicted_score.value = int(predicted_final_score)\n"
      ],
      "metadata": {
        "id": "RkL5TrA9beeU"
      },
      "execution_count": null,
      "outputs": []
    },
    {
      "cell_type": "markdown",
      "source": [
        "# Win Prediciton Function"
      ],
      "metadata": {
        "id": "ZplLreJUaAV8"
      }
    },
    {
      "cell_type": "code",
      "source": [
        "def predicted_winner(overs, wickets, runs,team1, team2, venue,runs_last_5,wickets_last_5,target,Innings):\n",
        "\n",
        "\n",
        "    if overs>0:\n",
        "      #During 1st Innings\n",
        "      if Innings=='1st Innings':\n",
        "        input_data_team1 = pd.DataFrame(columns=X2.columns)\n",
        "        input_data_team1.loc[0] = 0\n",
        "        input_data_team1.loc[0,'bat_team_' + team1] = 1\n",
        "        input_data_team1.loc[0,'bowl_team_' + team2] = 1\n",
        "        input_data_team1.loc[0,'venue_' + venue] = 1\n",
        "        input_data_team1.loc[0, 'overs'] = overs\n",
        "        input_data_team1.loc[0, 'wickets'] = wickets\n",
        "        input_data_team1.loc[0, 'runs'] = runs\n",
        "        input_data_team1.loc[0, 'runs_last_5']=runs_last_5\n",
        "        input_data_team1.loc[0, 'wickets_last_5']=wickets_last_5\n",
        "\n",
        "        input_data_team2 = input_data_team1.copy()\n",
        "        input_data_team2.loc[0,'bowl_team_' + team1] = 1\n",
        "        input_data_team2.loc[0, 'overs'] = 0\n",
        "        input_data_team2.loc[0, 'wickets'] =0\n",
        "        input_data_team2.loc[0, 'runs'] = 0\n",
        "        input_data_team2.loc[0, 'runs_last_5']=0\n",
        "        input_data_team2.loc[0, 'wickets_last_5']=0\n",
        "\n",
        "        predicted_score_team1 = model_RF.predict(input_data_team1)[0]\n",
        "        predicted_score_team2 = model_RF.predict(input_data_team2)[0]\n",
        "\n",
        "        if predicted_score_team1 > predicted_score_team2:\n",
        "          print(f\"{team1} is predicted to win!\")\n",
        "        elif predicted_score_team2 > predicted_score_team1:\n",
        "          print(f\"{team2} is predicted to win!\")\n",
        "        else:\n",
        "          print(\"It's a predicted tie!\")\n",
        "\n",
        "      else:\n",
        "        #During the 2nd Innings\n",
        "        input_data_team = pd.DataFrame(columns=X2.columns)\n",
        "        input_data_team.loc[0] = 0\n",
        "        input_data_team.loc[0,'bat_team_' + team1] = 1\n",
        "        input_data_team.loc[0,'bowl_team_' + team2] = 1\n",
        "        input_data_team.loc[0,'venue_' + venue] = 1\n",
        "        input_data_team.loc[0, 'overs'] = overs\n",
        "        input_data_team.loc[0, 'wickets'] = wickets\n",
        "        input_data_team.loc[0, 'runs'] = runs\n",
        "        input_data_team.loc[0, 'runs_last_5']=runs_last_5\n",
        "        input_data_team.loc[0, 'wickets_last_5']=wickets_last_5\n",
        "\n",
        "        predicted_score_team = model_RF.predict(input_data_team)[0]\n",
        "        if predicted_score_team > target:\n",
        "          print(f\"{team1} is predicted to win!\")\n",
        "        elif target == predicted_score_team:\n",
        "          print(\"It's a predicted tie!\")\n",
        "        else:\n",
        "          print(f\"{team2} is predicted to win!\")\n",
        "\n",
        "\n",
        "\n",
        "\n",
        "    else:\n",
        "      #Pre-match Prediction\n",
        "      if Innings=='1st Innings':\n",
        "        input_data_team1 = pd.DataFrame(columns=X2.columns)\n",
        "        input_data_team1.loc[0] = 0\n",
        "        input_data_team1.loc[0,'bat_team_' + team1] = 1\n",
        "        input_data_team1.loc[0,'bowl_team_' + team2] = 1\n",
        "        input_data_team1.loc[0,'venue_' + venue] = 1\n",
        "        input_data_team1.loc[0, 'overs'] = 0\n",
        "        input_data_team1.loc[0, 'wickets'] = 0\n",
        "        input_data_team1.loc[0, 'runs'] = 0\n",
        "        input_data_team1.loc[0, 'runs_last_5']=0\n",
        "        input_data_team1.loc[0, 'wickets_last_5']=0\n",
        "\n",
        "        input_data_team2 = input_data_team1.copy()\n",
        "        input_data_team2.loc[0,'bowl_team_' + team1] = 1\n",
        "        input_data_team2.loc[0, 'overs'] = 0\n",
        "        input_data_team2.loc[0, 'wickets'] =0\n",
        "        input_data_team2.loc[0, 'runs'] = 0\n",
        "        input_data_team2.loc[0, 'runs_last_5']=0\n",
        "        input_data_team2.loc[0, 'wickets_last_5']=0\n",
        "\n",
        "        predicted_score_team1 = model_RF.predict(input_data_team1)[0]\n",
        "        predicted_score_team2 = model_RF.predict(input_data_team2)[0]\n",
        "\n",
        "        if predicted_score_team1 > predicted_score_team2:\n",
        "          print(f\"{team1} is predicted to win!\")\n",
        "        elif predicted_score_team2 > predicted_score_team1:\n",
        "          print(f\"{team2} is predicted to win!\")\n",
        "        else:\n",
        "          print(\"It's a predicted tie!\")\n",
        "\n",
        "\n",
        "\n",
        "\n",
        "      else:\n",
        "        #prediction after 1st Innings\n",
        "        input_data_team = pd.DataFrame(columns=X2.columns)\n",
        "        input_data_team.loc[0] = 0\n",
        "        input_data_team.loc[0,'bat_team_' + team1] = 1\n",
        "        input_data_team.loc[0,'bowl_team_' + team2] = 1\n",
        "        input_data_team.loc[0,'venue_' + venue] = 1\n",
        "        input_data_team.loc[0, 'overs'] = overs\n",
        "        input_data_team.loc[0, 'wickets'] = wickets\n",
        "        input_data_team.loc[0, 'runs'] = runs\n",
        "        input_data_team.loc[0, 'runs_last_5']=runs_last_5\n",
        "        input_data_team.loc[0, 'wickets_last_5']=wickets_last_5\n",
        "\n",
        "        predicted_score_team = model_RF.predict(input_data_team)[0]\n",
        "        if predicted_score_team > target:\n",
        "          print(f\"{team1} is predicted to win!\")\n",
        "        elif target == predicted_score_team:\n",
        "          print(\"It's a predicted tie!\")\n",
        "        else:\n",
        "          print(f\"{team2} is predicted to win!\")\n",
        "\n",
        "\n"
      ],
      "metadata": {
        "id": "v2Rn7Cj1wIDU"
      },
      "execution_count": null,
      "outputs": []
    },
    {
      "cell_type": "markdown",
      "source": [
        "# User Inputs"
      ],
      "metadata": {
        "id": "YEfyguCBaERs"
      }
    },
    {
      "cell_type": "code",
      "execution_count": null,
      "metadata": {
        "id": "Vwf2Sau7UuFM"
      },
      "outputs": [],
      "source": [
        "batting_team_options = df['bat_team'].unique()\n",
        "bowling_team_options = df['bowl_team'].unique()\n",
        "venue_options = df['venue'].unique()\n",
        "innings_options = [\"1st Innings\", \"2nd Innings\"]\n",
        "\n",
        "#Widgets\n",
        "overs = widgets.FloatSlider(min=0, max=50, value=0, description='Overs Bowled:')\n",
        "wickets= widgets.IntSlider(min=0, max=9, value=0, description='Wickets Fallen:')\n",
        "runs= widgets.IntSlider(min=0, max=500, value=0, description='Runs Scored:')\n",
        "runs_last_5= widgets.IntSlider(min=0, max=500, value=0, description='Runs last 5')\n",
        "wickets_last_5= widgets.IntSlider(min=0, max=9, value=0, description='Wickets last 5:')\n",
        "batting_team = widgets.Dropdown(options=batting_team_options, description='Batting Team:')\n",
        "bowling_team = widgets.Dropdown(options=bowling_team_options, description='Bowling Team:')\n",
        "venue= widgets.Dropdown(options=venue_options, description='Venue:')\n",
        "inning= widgets.Dropdown(options=innings_options, description='Select Innings:')\n",
        "target= widgets.IntSlider(min=0, max=500, value=0, description='Target')\n",
        "\n",
        "#Prediction Buttons\n",
        "predict_button1 = widgets.Button(description='Linear Regression')\n",
        "predict_button2 = widgets.Button(description='Random Forest')\n",
        "predict_button3 = widgets.Button(description='Neural Network')\n",
        "predict_button4 = widgets.Button(description='Elastic Net')\n",
        "predict_winner = widgets.Button(description='Predict Winner')\n",
        "\n",
        "predicted_score = widgets.FloatText(description='Final Score:', value=0)\n",
        "\n",
        "\n",
        "\n",
        "#Prediction Buttons actions\n",
        "predict_button1.on_click(lambda x: predict_final_score(overs.value, wickets.value, runs.value, batting_team.value, bowling_team.value, venue.value,runs_last_5.value,wickets_last_5.value,1))\n",
        "predict_button2.on_click(lambda x: predict_final_score(overs.value, wickets.value, runs.value, batting_team.value, bowling_team.value, venue.value,runs_last_5.value,wickets_last_5.value,2))\n",
        "predict_button3.on_click(lambda x: predict_final_score(overs.value, wickets.value, runs.value, batting_team.value, bowling_team.value, venue.value,runs_last_5.value,wickets_last_5.value,3))\n",
        "predict_button4.on_click(lambda x: predict_final_score(overs.value, wickets.value, runs.value, batting_team.value, bowling_team.value, venue.value,runs_last_5.value,wickets_last_5.value,4))\n",
        "predict_winner.on_click(lambda x: predicted_winner(overs.value, wickets.value, runs.value,batting_team.value, bowling_team.value, venue.value,runs_last_5.value,wickets_last_5.value,target.value,inning.value))\n",
        "\n",
        "display(batting_team, bowling_team, venue,inning,target,overs, wickets, runs,wickets_last_5,runs_last_5 , predict_button1,predict_button2,predict_button3,predict_button4,predict_winner,predicted_score)\n"
      ]
    }
  ],
  "metadata": {
    "colab": {
      "provenance": [],
      "gpuType": "T4"
    },
    "kernelspec": {
      "display_name": "Python 3",
      "name": "python3"
    },
    "language_info": {
      "name": "python"
    }
  },
  "nbformat": 4,
  "nbformat_minor": 0
}